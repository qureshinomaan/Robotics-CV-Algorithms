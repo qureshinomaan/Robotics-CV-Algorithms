{
 "cells": [
  {
   "cell_type": "markdown",
   "metadata": {},
   "source": [
    "# Variational Auto-Encoders"
   ]
  },
  {
   "cell_type": "code",
   "execution_count": 1,
   "metadata": {},
   "outputs": [],
   "source": [
    "import torch\n",
    "import torch.nn as nn\n",
    "import torch.nn.functional as F\n",
    "import torch.optim as optim\n",
    "from torchvision import datasets, transforms\n",
    "from torch.autograd import Variable\n",
    "from torchvision.utils import save_image"
   ]
  },
  {
   "cell_type": "code",
   "execution_count": 3,
   "metadata": {},
   "outputs": [],
   "source": [
    "batch_size = 100\n",
    "train_dataset = datasets.MNIST(root='./mnist_data/', train=True, transform=transforms.ToTensor(), download=True)\n",
    "test_dataset = datasets.MNIST(root='./mnist_data/', train=False, transform=transforms.ToTensor(), download=False)\n",
    "\n",
    "train_loader = torch.utils.data.DataLoader(dataset=train_dataset, batch_size=batch_size, shuffle=True)\n",
    "test_loader = torch.utils.data.DataLoader(dataset=test_dataset, batch_size=batch_size, shuffle=False)"
   ]
  },
  {
   "cell_type": "code",
   "execution_count": 46,
   "metadata": {},
   "outputs": [],
   "source": [
    "class VAE(nn.Module):\n",
    "    def __init__(self, x_dim, h_dim1, h_dim2, z_dim):\n",
    "        super(VAE, self).__init__()\n",
    "        self.fc1 = nn.Linear(x_dim, h_dim1)\n",
    "        self.fc2 = nn.Linear(h_dim1, h_dim2)\n",
    "        self.fc31 = nn.Linear(h_dim2, z_dim)\n",
    "        self.fc32 = nn.Linear(h_dim2, z_dim)\n",
    "        \n",
    "        self.fc4 = nn.Linear(z_dim, h_dim2)\n",
    "        self.fc5 = nn.Linear(h_dim2, h_dim1)\n",
    "        self.fc6 = nn.Linear(h_dim1, x_dim)\n",
    "        \n",
    "    def encoder(self, x):\n",
    "        h = F.relu(self.fc1(x))\n",
    "        h = F.relu(self.fc2(h))\n",
    "        return self.fc31(h), self.fc32(h)\n",
    "    \n",
    "    def sampling(self, mu, log_var):\n",
    "        std = torch.exp(0.5*log_var)\n",
    "        eps = torch.randn_like(std)\n",
    "        return eps.mul(std).add(mu)\n",
    "    \n",
    "    def decoder(self, z):\n",
    "        h = F.relu(self.fc4(z))\n",
    "        h = F.relu(self.fc5(h))\n",
    "        return F.sigmoid(self.fc6(h))\n",
    "    \n",
    "    def forward(self, x):\n",
    "        mu, log_var = self.encoder(x.view(-1, 784))\n",
    "        z = self.sampling(mu, log_var)\n",
    "        return self.decoder(z), mu, log_var\n",
    "\n",
    "vae = VAE(x_dim=784, h_dim1=512, h_dim2=256, z_dim=2)\n",
    "\n",
    "if torch.cuda.is_available():\n",
    "    vae.cuda()\n",
    "\n"
   ]
  },
  {
   "cell_type": "code",
   "execution_count": 47,
   "metadata": {},
   "outputs": [],
   "source": [
    "optimizer = optim.Adam(vae.parameters())\n",
    "def loss_function(recon_x, x, mu, log_var):\n",
    "    BCE = F.binary_cross_entropy(recon_x, x.view(-1, 784), reduction='sum')\n",
    "    KLD = -0.5 * torch.sum(1 + log_var - mu.pow(2) - log_var.exp())\n",
    "    return BCE + KLD"
   ]
  },
  {
   "cell_type": "code",
   "execution_count": 48,
   "metadata": {},
   "outputs": [],
   "source": [
    "def train(epoch):\n",
    "    vae.train()\n",
    "    train_loss = 0\n",
    "    for batch_idx,  (data, _) in enumerate(train_loader):\n",
    "        optimizer.zero_grad()\n",
    "        data.float()\n",
    "        recon_batch, mu, log_var = vae(data)\n",
    "        \n",
    "        loss = loss_function(recon_batch, data, mu, log_var)\n",
    "        \n",
    "        loss.backward()\n",
    "        train_loss += loss.item()\n",
    "        optimizer.step()\n",
    "        \n",
    "    print(\"Epoch : \", epoch, \" Loss : \", train_loss)\n",
    "    "
   ]
  },
  {
   "cell_type": "code",
   "execution_count": 49,
   "metadata": {},
   "outputs": [],
   "source": [
    "def test():\n",
    "    vae.eval()\n",
    "    test_loss = 0\n",
    "    with torch.no_grad():\n",
    "        for data, _ in test_loader:\n",
    "            recon, mu, log_var = vae(data)\n",
    "            \n",
    "            test_loss += loss_function(recon, data, mu, log_var).item()\n",
    "    test_loss /= len(test_loader.dataset)\n",
    "    print(\"Test loss : \", test_loss)"
   ]
  },
  {
   "cell_type": "code",
   "execution_count": 50,
   "metadata": {},
   "outputs": [
    {
     "name": "stderr",
     "output_type": "stream",
     "text": [
      "/Library/Frameworks/Python.framework/Versions/3.7/lib/python3.7/site-packages/torch/nn/functional.py:1351: UserWarning: nn.functional.sigmoid is deprecated. Use torch.sigmoid instead.\n",
      "  warnings.warn(\"nn.functional.sigmoid is deprecated. Use torch.sigmoid instead.\")\n"
     ]
    },
    {
     "name": "stdout",
     "output_type": "stream",
     "text": [
      "Epoch :  1  Loss :  10750853.161132812\n",
      "Epoch :  2  Loss :  9565705.342773438\n",
      "Epoch :  3  Loss :  9243505.092773438\n",
      "Epoch :  4  Loss :  9049539.201171875\n",
      "Epoch :  5  Loss :  8897338.5703125\n",
      "Epoch :  6  Loss :  8811529.49609375\n",
      "Epoch :  7  Loss :  8757011.889648438\n",
      "Epoch :  8  Loss :  8697597.770507812\n",
      "Epoch :  9  Loss :  8639360.56640625\n",
      "Epoch :  10  Loss :  8605744.4375\n",
      "Epoch :  11  Loss :  8572931.354492188\n",
      "Epoch :  12  Loss :  8535270.368164062\n",
      "Epoch :  13  Loss :  8512760.9140625\n",
      "Epoch :  14  Loss :  8475203.25390625\n",
      "Epoch :  15  Loss :  8458171.072265625\n",
      "Epoch :  16  Loss :  8431097.243164062\n",
      "Epoch :  17  Loss :  8414519.661132812\n",
      "Epoch :  18  Loss :  8394828.34765625\n",
      "Epoch :  19  Loss :  8378001.04296875\n",
      "Epoch :  20  Loss :  8366855.0908203125\n",
      "Epoch :  21  Loss :  8354189.6826171875\n",
      "Epoch :  22  Loss :  8334626.91796875\n",
      "Epoch :  23  Loss :  8322845.3359375\n",
      "Epoch :  24  Loss :  8303810.7529296875\n",
      "Epoch :  25  Loss :  8295503.5283203125\n",
      "Epoch :  26  Loss :  8277694.4189453125\n",
      "Epoch :  27  Loss :  8266150.9638671875\n",
      "Epoch :  28  Loss :  8248722.392578125\n",
      "Epoch :  29  Loss :  8246004.6142578125\n",
      "Epoch :  30  Loss :  8240308.33984375\n",
      "Epoch :  31  Loss :  8222846.67578125\n",
      "Epoch :  32  Loss :  8234088.6826171875\n",
      "Epoch :  33  Loss :  8215521.3984375\n",
      "Epoch :  34  Loss :  8216320.7958984375\n",
      "Epoch :  35  Loss :  8187537.0400390625\n",
      "Epoch :  36  Loss :  8195015.1708984375\n",
      "Epoch :  37  Loss :  8210178.4462890625\n",
      "Epoch :  38  Loss :  8183242.30078125\n",
      "Epoch :  39  Loss :  8157258.458984375\n",
      "Epoch :  40  Loss :  8152696.7763671875\n",
      "Epoch :  41  Loss :  8157140.9111328125\n",
      "Epoch :  42  Loss :  8144802.1474609375\n",
      "Epoch :  43  Loss :  8147611.982421875\n",
      "Epoch :  44  Loss :  8166390.662109375\n",
      "Epoch :  45  Loss :  8134069.3251953125\n",
      "Epoch :  46  Loss :  8122077.3984375\n",
      "Epoch :  47  Loss :  8121480.0869140625\n",
      "Epoch :  48  Loss :  8118516.919921875\n",
      "Epoch :  49  Loss :  8102726.6767578125\n",
      "Epoch :  50  Loss :  8108168.134765625\n"
     ]
    }
   ],
   "source": [
    "for epoch in range(1, 51):\n",
    "    train(epoch)"
   ]
  },
  {
   "cell_type": "code",
   "execution_count": 61,
   "metadata": {},
   "outputs": [],
   "source": [
    "import matplotlib.pyplot as plt\n",
    "import cv2\n",
    "with torch.no_grad():\n",
    "    z = torch.randn(64, 2)\n",
    "    sample = vae.decoder(z)\n",
    "#     plt.imshow(sample.view(64, 1, 28, 28))\n",
    "    save_image(sample.view(64, 1, 28, 28)[0], './sample_' + '.png')"
   ]
  },
  {
   "cell_type": "code",
   "execution_count": 62,
   "metadata": {},
   "outputs": [
    {
     "data": {
      "text/plain": [
       "<matplotlib.image.AxesImage at 0x123dc2160>"
      ]
     },
     "execution_count": 62,
     "metadata": {},
     "output_type": "execute_result"
    },
    {
     "data": {
      "image/png": "[encoded data removed]",
      "text/plain": [
       "<Figure size 432x288 with 1 Axes>"
      ]
     },
     "metadata": {
      "needs_background": "light"
     },
     "output_type": "display_data"
    }
   ],
   "source": [
    "img = cv2.imread('./sample_.png')\n",
    "plt.imshow(img)"
   ]
  },
  {
   "cell_type": "code",
   "execution_count": null,
   "metadata": {},
   "outputs": [],
   "source": []
  }
 ],
 "metadata": {
  "kernelspec": {
   "display_name": "Python 3",
   "language": "python",
   "name": "python3"
  },
  "language_info": {
   "codemirror_mode": {
    "name": "ipython",
    "version": 3
   },
   "file_extension": ".py",
   "mimetype": "text/x-python",
   "name": "python",
   "nbconvert_exporter": "python",
   "pygments_lexer": "ipython3",
   "version": "3.7.3"
  }
 },
 "nbformat": 4,
 "nbformat_minor": 2
}
